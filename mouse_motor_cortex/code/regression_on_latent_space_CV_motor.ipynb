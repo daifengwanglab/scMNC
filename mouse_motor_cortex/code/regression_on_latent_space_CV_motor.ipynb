{
 "cells": [
  {
   "cell_type": "code",
   "execution_count": 1,
   "metadata": {},
   "outputs": [],
   "source": [
    "# Prepare\n",
    "\n",
    "%matplotlib notebook\n",
    "\n",
    "import numpy as np\n",
    "import pandas as pd\n",
    "import scipy\n",
    "import time\n",
    "import warnings\n",
    "\n",
    "from sklearn.linear_model import LinearRegression"
   ]
  },
  {
   "cell_type": "code",
   "execution_count": 2,
   "metadata": {},
   "outputs": [
    {
     "name": "stdout",
     "output_type": "stream",
     "text": [
      "Shape of Xe: (1208, 20) \n",
      "Shape of Xg: (1208, 20)\n"
     ]
    }
   ],
   "source": [
    "efeatures_NMA=pd.read_csv('../data/efeatures_NMA_20.csv')\n",
    "Xe=np.array(efeatures_NMA.drop(columns=['data','ttype','cellnames']))\n",
    "\n",
    "geneExp_NMA=pd.read_csv('../data/geneExp_NMA_20.csv')\n",
    "Xg=np.array(geneExp_NMA.drop(columns=['data','ttype','cellnames']))\n",
    "\n",
    "Xe = Xe - np.mean(Xe, axis=0)\n",
    "Xe = Xe / np.std(Xe, axis=0)\n",
    "\n",
    "Xg = Xg - np.mean(Xg, axis=0)\n",
    "Xg = Xg / np.std(Xg, axis=0)\n",
    "\n",
    "print('Shape of Xe:', Xe.shape, '\\nShape of Xg:', Xg.shape)"
   ]
  },
  {
   "cell_type": "code",
   "execution_count": 3,
   "metadata": {},
   "outputs": [
    {
     "data": {
      "text/plain": [
       "0.9769418404940772"
      ]
     },
     "execution_count": 3,
     "metadata": {},
     "output_type": "execute_result"
    }
   ],
   "source": [
    "Xg_3=Xg[:,0:3:]\n",
    "Xe_3=Xe[:,0:3:]\n",
    "\n",
    "reg = LinearRegression().fit(Xg_3,Xe_3)\n",
    "r2 = reg.score(Xg_3, Xe_3, sample_weight=None)\n",
    "\n",
    "r2"
   ]
  },
  {
   "cell_type": "markdown",
   "metadata": {},
   "source": [
    "## Cross Validation"
   ]
  },
  {
   "cell_type": "code",
   "execution_count": 4,
   "metadata": {},
   "outputs": [],
   "source": [
    "def cv(X, Y, reps=20, folds=10, dims=np.array([3,5,7,9,11,13,15,20]), seed=42):\n",
    "\n",
    "    r2 = np.zeros((folds, reps, len(dims))) * np.nan\n",
    "    \n",
    "    np.random.seed(seed)\n",
    "    t = time.time()\n",
    "    n=X.shape[0]\n",
    "    for m,dim in enumerate(dims):\n",
    "            X = Xg[:,0:dim:]\n",
    "            Y = Xe[:,0:dim:]\n",
    "\n",
    "            for rep in range(reps):\n",
    "                #print(rep+1, end='')\n",
    "                ind = np.random.permutation(n)\n",
    "                X = X[ind,:]\n",
    "                Y = Y[ind,:]\n",
    "            \n",
    "                # CV folds\n",
    "                for cvfold in range(folds):\n",
    "                    #print('.', end='')\n",
    "    \n",
    "                    indtest  = np.arange(cvfold*int(n/folds), (cvfold+1)*int(n/folds))\n",
    "                    indtrain = np.setdiff1d(np.arange(n), indtest)\n",
    "                    Xtrain = np.copy(X[indtrain,:])\n",
    "                    Ytrain = np.copy(Y[indtrain,:])\n",
    "                    Xtest  = np.copy(X[indtest,:])\n",
    "                    Ytest  = np.copy(Y[indtest,:])\n",
    "                \n",
    "                    # mean centering\n",
    "                    X_mean = np.mean(Xtrain, axis=0)\n",
    "                    Xtrain -= X_mean\n",
    "                    Xtest  -= X_mean\n",
    "                    Y_mean = np.mean(Ytrain, axis=0)\n",
    "                    Ytrain -= Y_mean\n",
    "                    Ytest  -= Y_mean\n",
    "                    \n",
    "                    fit = LinearRegression().fit(Xtrain,Ytrain)\n",
    "                    r2[cvfold, rep, m] =1-np.sum((fit.predict(Xtest)-Ytest)**2)/np.sum(Xtest**2)\n",
    "                \n",
    "    t = time.time() - t\n",
    "    min,s = divmod(t, 60)\n",
    "    h,min = divmod(min, 60)\n",
    "    print('Time: {}h {:2.0f}min {:2.0f}s'.format(h,min,s))    \n",
    "    \n",
    "    return r2"
   ]
  },
  {
   "cell_type": "code",
   "execution_count": 5,
   "metadata": {},
   "outputs": [
    {
     "name": "stdout",
     "output_type": "stream",
     "text": [
      "Time: 0.0h  0min  1s\n"
     ]
    }
   ],
   "source": [
    "cv_result = cv(X=Xg,Y=Xe)\n",
    "cv_mean = np.nanmean(cv_result, axis=(0,1))"
   ]
  },
  {
   "cell_type": "code",
   "execution_count": 6,
   "metadata": {},
   "outputs": [
    {
     "data": {
      "text/plain": [
       "array([[[0.97816906, 0.97726467, 0.97077795, ..., 0.95144781,\n",
       "         0.96104923, 0.94764038],\n",
       "        [0.9711292 , 0.96924817, 0.96092604, ..., 0.94411148,\n",
       "         0.96832167, 0.95793476],\n",
       "        [0.98068407, 0.97359963, 0.96535019, ..., 0.96433461,\n",
       "         0.95667512, 0.94533254],\n",
       "        ...,\n",
       "        [0.97444722, 0.96357513, 0.96254073, ..., 0.95628798,\n",
       "         0.95047713, 0.94328988],\n",
       "        [0.97611957, 0.96627017, 0.97753102, ..., 0.96262242,\n",
       "         0.95667156, 0.95106707],\n",
       "        [0.9781545 , 0.97166498, 0.95611437, ..., 0.95135001,\n",
       "         0.95188547, 0.9534309 ]],\n",
       "\n",
       "       [[0.97358047, 0.96904416, 0.95673923, ..., 0.95638089,\n",
       "         0.94966538, 0.95271288],\n",
       "        [0.97046037, 0.96904715, 0.97174882, ..., 0.96610511,\n",
       "         0.96012551, 0.94785334],\n",
       "        [0.98073256, 0.96288765, 0.95412499, ..., 0.9618297 ,\n",
       "         0.95691972, 0.94698089],\n",
       "        ...,\n",
       "        [0.98515507, 0.95540698, 0.97038493, ..., 0.95425763,\n",
       "         0.95522904, 0.95902335],\n",
       "        [0.97745197, 0.96330687, 0.96897182, ..., 0.95222027,\n",
       "         0.94709803, 0.95923224],\n",
       "        [0.97405146, 0.9606055 , 0.96706717, ..., 0.94248776,\n",
       "         0.95782641, 0.957458  ]],\n",
       "\n",
       "       [[0.97077257, 0.96648189, 0.96044108, ..., 0.96466108,\n",
       "         0.9510513 , 0.94692579],\n",
       "        [0.97199637, 0.96823325, 0.96077224, ..., 0.95004119,\n",
       "         0.94916141, 0.95562032],\n",
       "        [0.97379991, 0.97219772, 0.96232677, ..., 0.96098742,\n",
       "         0.96381679, 0.96043217],\n",
       "        ...,\n",
       "        [0.98026142, 0.96963997, 0.96924319, ..., 0.96143263,\n",
       "         0.95757665, 0.93769627],\n",
       "        [0.97696348, 0.97269496, 0.96533335, ..., 0.95912733,\n",
       "         0.96232168, 0.95500275],\n",
       "        [0.98247746, 0.96992681, 0.97530057, ..., 0.96350192,\n",
       "         0.9519712 , 0.95962457]],\n",
       "\n",
       "       ...,\n",
       "\n",
       "       [[0.98356031, 0.97925742, 0.96611183, ..., 0.95185139,\n",
       "         0.94808472, 0.95347396],\n",
       "        [0.98349732, 0.97491756, 0.9657349 , ..., 0.95955554,\n",
       "         0.95215116, 0.95813863],\n",
       "        [0.97667434, 0.96347453, 0.96940596, ..., 0.95352363,\n",
       "         0.94847382, 0.95892064],\n",
       "        ...,\n",
       "        [0.97767996, 0.97606445, 0.95982734, ..., 0.96059518,\n",
       "         0.95916488, 0.95599916],\n",
       "        [0.97847084, 0.96638477, 0.96027591, ..., 0.96050355,\n",
       "         0.94822405, 0.93936139],\n",
       "        [0.97359954, 0.96812948, 0.96371206, ..., 0.95828625,\n",
       "         0.95222039, 0.94866491]],\n",
       "\n",
       "       [[0.98282895, 0.98079297, 0.97091285, ..., 0.94840066,\n",
       "         0.96203178, 0.95679107],\n",
       "        [0.97792088, 0.9603092 , 0.9673332 , ..., 0.95569914,\n",
       "         0.95834136, 0.94993701],\n",
       "        [0.97228528, 0.98095213, 0.96070266, ..., 0.94687564,\n",
       "         0.95634016, 0.95324648],\n",
       "        ...,\n",
       "        [0.97513923, 0.96446586, 0.96319745, ..., 0.9593986 ,\n",
       "         0.95978636, 0.96839543],\n",
       "        [0.9745523 , 0.9695728 , 0.95262561, ..., 0.94818222,\n",
       "         0.95286288, 0.95774282],\n",
       "        [0.97281746, 0.96845708, 0.97237848, ..., 0.9532219 ,\n",
       "         0.95734599, 0.94566375]],\n",
       "\n",
       "       [[0.9732632 , 0.94186871, 0.95808047, ..., 0.94545538,\n",
       "         0.96181018, 0.95188496],\n",
       "        [0.97626605, 0.9534339 , 0.96310258, ..., 0.95756149,\n",
       "         0.95793466, 0.95273388],\n",
       "        [0.97831061, 0.97010141, 0.96994619, ..., 0.96775335,\n",
       "         0.95127485, 0.94491472],\n",
       "        ...,\n",
       "        [0.97896287, 0.95947166, 0.96624607, ..., 0.9579951 ,\n",
       "         0.95058969, 0.94467734],\n",
       "        [0.96835171, 0.97396644, 0.95916946, ..., 0.96000842,\n",
       "         0.95247173, 0.95012421],\n",
       "        [0.97473759, 0.96719948, 0.96067513, ..., 0.95310435,\n",
       "         0.96270449, 0.95954512]]])"
      ]
     },
     "execution_count": 6,
     "metadata": {},
     "output_type": "execute_result"
    }
   ],
   "source": [
    "cv_result"
   ]
  },
  {
   "cell_type": "code",
   "execution_count": 7,
   "metadata": {},
   "outputs": [
    {
     "data": {
      "text/plain": [
       "array([0.97673486, 0.96703491, 0.96409212, 0.96161062, 0.95876097,\n",
       "       0.95733931, 0.95539223, 0.95234821])"
      ]
     },
     "execution_count": 7,
     "metadata": {},
     "output_type": "execute_result"
    }
   ],
   "source": [
    "cv_mean"
   ]
  }
 ],
 "metadata": {
  "kernelspec": {
   "display_name": "Python 3",
   "language": "python",
   "name": "python3"
  },
  "language_info": {
   "codemirror_mode": {
    "name": "ipython",
    "version": 3
   },
   "file_extension": ".py",
   "mimetype": "text/x-python",
   "name": "python",
   "nbconvert_exporter": "python",
   "pygments_lexer": "ipython3",
   "version": "3.8.3"
  }
 },
 "nbformat": 4,
 "nbformat_minor": 4
}
