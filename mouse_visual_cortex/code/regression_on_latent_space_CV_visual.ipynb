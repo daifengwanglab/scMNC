{
 "cells": [
  {
   "cell_type": "code",
   "execution_count": 1,
   "metadata": {},
   "outputs": [],
   "source": [
    "# Prepare\n",
    "\n",
    "%matplotlib notebook\n",
    "\n",
    "import numpy as np\n",
    "import pandas as pd\n",
    "import scipy\n",
    "import time\n",
    "import warnings\n",
    "\n",
    "from sklearn.linear_model import LinearRegression"
   ]
  },
  {
   "cell_type": "code",
   "execution_count": 2,
   "metadata": {},
   "outputs": [
    {
     "name": "stdout",
     "output_type": "stream",
     "text": [
      "Shape of Xe: (3654, 20) \n",
      "Shape of Xg: (3654, 20)\n"
     ]
    }
   ],
   "source": [
    "efeatures_NMA=pd.read_csv('../data/efeatures_NMA_20.csv')\n",
    "Xe=np.array(efeatures_NMA.drop(columns=['data','ttype','cellnames']))\n",
    "\n",
    "geneExp_NMA=pd.read_csv('../data/geneExp_NMA_20.csv')\n",
    "Xg=np.array(geneExp_NMA.drop(columns=['data','ttype','cellnames']))\n",
    "\n",
    "Xe = Xe - np.mean(Xe, axis=0)\n",
    "Xe = Xe / np.std(Xe, axis=0)\n",
    "\n",
    "Xg = Xg - np.mean(Xg, axis=0)\n",
    "Xg = Xg / np.std(Xg, axis=0)\n",
    "\n",
    "print('Shape of Xe:', Xe.shape, '\\nShape of Xg:', Xg.shape)"
   ]
  },
  {
   "cell_type": "code",
   "execution_count": 3,
   "metadata": {},
   "outputs": [
    {
     "data": {
      "text/plain": [
       "0.9871211142869584"
      ]
     },
     "execution_count": 3,
     "metadata": {},
     "output_type": "execute_result"
    }
   ],
   "source": [
    "Xg_3=Xg[:,0:3:]\n",
    "Xe_3=Xe[:,0:3:]\n",
    "\n",
    "reg = LinearRegression().fit(Xg_3,Xe_3)\n",
    "r2 = reg.score(Xg_3, Xe_3, sample_weight=None)\n",
    "\n",
    "r2"
   ]
  },
  {
   "cell_type": "markdown",
   "metadata": {},
   "source": [
    "## Cross Validation"
   ]
  },
  {
   "cell_type": "code",
   "execution_count": 4,
   "metadata": {},
   "outputs": [],
   "source": [
    "def cv(X, Y, reps=20, folds=10, dims=np.array([3,5,7,9,11,13,15,20]), seed=42):\n",
    "\n",
    "    r2 = np.zeros((folds, reps, len(dims))) * np.nan\n",
    "    \n",
    "    np.random.seed(seed)\n",
    "    t = time.time()\n",
    "    n=X.shape[0]\n",
    "    for m,dim in enumerate(dims):\n",
    "            X = Xg[:,0:dim:]\n",
    "            Y = Xe[:,0:dim:]\n",
    "\n",
    "            for rep in range(reps):\n",
    "                #print(rep+1, end='')\n",
    "                ind = np.random.permutation(n)\n",
    "                X = X[ind,:]\n",
    "                Y = Y[ind,:]\n",
    "            \n",
    "                # CV folds\n",
    "                for cvfold in range(folds):\n",
    "                    #print('.', end='')\n",
    "    \n",
    "                    indtest  = np.arange(cvfold*int(n/folds), (cvfold+1)*int(n/folds))\n",
    "                    indtrain = np.setdiff1d(np.arange(n), indtest)\n",
    "                    Xtrain = np.copy(X[indtrain,:])\n",
    "                    Ytrain = np.copy(Y[indtrain,:])\n",
    "                    Xtest  = np.copy(X[indtest,:])\n",
    "                    Ytest  = np.copy(Y[indtest,:])\n",
    "                \n",
    "                    # mean centering\n",
    "                    X_mean = np.mean(Xtrain, axis=0)\n",
    "                    Xtrain -= X_mean\n",
    "                    Xtest  -= X_mean\n",
    "                    Y_mean = np.mean(Ytrain, axis=0)\n",
    "                    Ytrain -= Y_mean\n",
    "                    Ytest  -= Y_mean\n",
    "                    \n",
    "                    fit = LinearRegression().fit(Xtrain,Ytrain)\n",
    "                    r2[cvfold, rep, m] =1-np.sum((fit.predict(Xtest)-Ytest)**2)/np.sum(Xtest**2)\n",
    "                \n",
    "    t = time.time() - t\n",
    "    min,s = divmod(t, 60)\n",
    "    h,min = divmod(min, 60)\n",
    "    print('Time: {}h {:2.0f}min {:2.0f}s'.format(h,min,s))    \n",
    "    \n",
    "    return r2"
   ]
  },
  {
   "cell_type": "code",
   "execution_count": 5,
   "metadata": {
    "scrolled": true
   },
   "outputs": [
    {
     "name": "stdout",
     "output_type": "stream",
     "text": [
      "Time: 0.0h  0min  2s\n"
     ]
    }
   ],
   "source": [
    "cv_result = cv(X=Xg,Y=Xe)\n",
    "cv_mean = np.nanmean(cv_result, axis=(0,1))"
   ]
  },
  {
   "cell_type": "code",
   "execution_count": 6,
   "metadata": {},
   "outputs": [
    {
     "data": {
      "text/plain": [
       "array([[[0.98698341, 0.97759188, 0.97196616, ..., 0.9527768 ,\n",
       "         0.95897038, 0.95800144],\n",
       "        [0.98759255, 0.97902416, 0.96930602, ..., 0.95534058,\n",
       "         0.95100109, 0.9514697 ],\n",
       "        [0.98767093, 0.975851  , 0.97018217, ..., 0.96097376,\n",
       "         0.95350053, 0.9587538 ],\n",
       "        ...,\n",
       "        [0.98677081, 0.97722244, 0.97212889, ..., 0.9596977 ,\n",
       "         0.96082043, 0.95898392],\n",
       "        [0.98640727, 0.97510547, 0.97418837, ..., 0.95862859,\n",
       "         0.96221041, 0.95211044],\n",
       "        [0.98712465, 0.97819594, 0.97335368, ..., 0.96291588,\n",
       "         0.95620995, 0.95736992]],\n",
       "\n",
       "       [[0.98627679, 0.97948017, 0.96621637, ..., 0.9649463 ,\n",
       "         0.96092966, 0.9467406 ],\n",
       "        [0.98251099, 0.98127636, 0.97017558, ..., 0.9668448 ,\n",
       "         0.96438154, 0.95685455],\n",
       "        [0.98473644, 0.97477163, 0.97316392, ..., 0.95724298,\n",
       "         0.96140691, 0.94850869],\n",
       "        ...,\n",
       "        [0.98679795, 0.98162414, 0.96880132, ..., 0.96024715,\n",
       "         0.94510844, 0.95226623],\n",
       "        [0.98665694, 0.98072165, 0.96660454, ..., 0.95330538,\n",
       "         0.95994226, 0.9534652 ],\n",
       "        [0.98722446, 0.97665189, 0.97561803, ..., 0.95522507,\n",
       "         0.96530028, 0.94514149]],\n",
       "\n",
       "       [[0.98634658, 0.97989934, 0.97026471, ..., 0.96525522,\n",
       "         0.95204122, 0.94917471],\n",
       "        [0.98675825, 0.98103479, 0.9679402 , ..., 0.96024865,\n",
       "         0.96064418, 0.9587124 ],\n",
       "        [0.98527801, 0.97744013, 0.9715921 , ..., 0.956234  ,\n",
       "         0.96164817, 0.95642731],\n",
       "        ...,\n",
       "        [0.98741298, 0.97545176, 0.9761    , ..., 0.96456339,\n",
       "         0.95622865, 0.95250933],\n",
       "        [0.98748144, 0.97717456, 0.97119232, ..., 0.96458481,\n",
       "         0.95331368, 0.94541256],\n",
       "        [0.98401965, 0.97501518, 0.96880357, ..., 0.95853417,\n",
       "         0.96170826, 0.9555572 ]],\n",
       "\n",
       "       ...,\n",
       "\n",
       "       [[0.98720829, 0.98244249, 0.97264377, ..., 0.9515654 ,\n",
       "         0.95913747, 0.96013123],\n",
       "        [0.98696953, 0.97809018, 0.97027982, ..., 0.96017746,\n",
       "         0.95962809, 0.95185845],\n",
       "        [0.98588953, 0.97936064, 0.97401676, ..., 0.96451616,\n",
       "         0.95622297, 0.95098664],\n",
       "        ...,\n",
       "        [0.99004993, 0.97771427, 0.96776002, ..., 0.96512293,\n",
       "         0.96129721, 0.95038479],\n",
       "        [0.99017471, 0.97929586, 0.9739435 , ..., 0.95756464,\n",
       "         0.95932519, 0.95396974],\n",
       "        [0.98837807, 0.98023883, 0.97196242, ..., 0.95802967,\n",
       "         0.95584557, 0.95675779]],\n",
       "\n",
       "       [[0.98734096, 0.9743758 , 0.97081794, ..., 0.96074176,\n",
       "         0.96185226, 0.95601884],\n",
       "        [0.98661425, 0.97698302, 0.97198616, ..., 0.95779216,\n",
       "         0.95077685, 0.94852034],\n",
       "        [0.9871511 , 0.97889947, 0.96912329, ..., 0.96630217,\n",
       "         0.96080609, 0.95351871],\n",
       "        ...,\n",
       "        [0.98725162, 0.9763272 , 0.96915743, ..., 0.95926625,\n",
       "         0.96037701, 0.9568994 ],\n",
       "        [0.98537152, 0.97648783, 0.97270401, ..., 0.95494484,\n",
       "         0.96214108, 0.95639934],\n",
       "        [0.98579921, 0.98066379, 0.96869324, ..., 0.9603518 ,\n",
       "         0.96194249, 0.95426031]],\n",
       "\n",
       "       [[0.98871724, 0.97987228, 0.97116537, ..., 0.95695499,\n",
       "         0.95608479, 0.95706699],\n",
       "        [0.9881845 , 0.97616037, 0.96923038, ..., 0.95889051,\n",
       "         0.95902597, 0.95481891],\n",
       "        [0.98827437, 0.98174318, 0.969026  , ..., 0.96144208,\n",
       "         0.95546707, 0.95713303],\n",
       "        ...,\n",
       "        [0.98378929, 0.97562662, 0.97135364, ..., 0.95612505,\n",
       "         0.96043429, 0.95557321],\n",
       "        [0.98815467, 0.97680512, 0.9683004 , ..., 0.95536405,\n",
       "         0.9500299 , 0.95925301],\n",
       "        [0.98756779, 0.97704543, 0.96935054, ..., 0.95795577,\n",
       "         0.95136254, 0.94941797]]])"
      ]
     },
     "execution_count": 6,
     "metadata": {},
     "output_type": "execute_result"
    }
   ],
   "source": [
    "cv_result"
   ]
  },
  {
   "cell_type": "code",
   "execution_count": 7,
   "metadata": {},
   "outputs": [
    {
     "data": {
      "text/plain": [
       "array([0.98708212, 0.97786596, 0.97098485, 0.96676881, 0.96235767,\n",
       "       0.95930368, 0.9573597 , 0.95410385])"
      ]
     },
     "execution_count": 7,
     "metadata": {},
     "output_type": "execute_result"
    }
   ],
   "source": [
    "cv_mean"
   ]
  }
 ],
 "metadata": {
  "kernelspec": {
   "display_name": "Python 3",
   "language": "python",
   "name": "python3"
  },
  "language_info": {
   "codemirror_mode": {
    "name": "ipython",
    "version": 3
   },
   "file_extension": ".py",
   "mimetype": "text/x-python",
   "name": "python",
   "nbconvert_exporter": "python",
   "pygments_lexer": "ipython3",
   "version": "3.8.3"
  }
 },
 "nbformat": 4,
 "nbformat_minor": 4
}
